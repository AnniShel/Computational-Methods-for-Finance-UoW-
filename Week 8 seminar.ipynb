{
 "cells": [
  {
   "cell_type": "code",
   "execution_count": 1,
   "metadata": {},
   "outputs": [],
   "source": [
    "# Download the daily data (from 11/11/2019 to 13/Nov/2020) for the S&P 500 from Yahoo Finance by using yfinance package. Get the spot price of the Index.\n",
    "\n",
    "import yfinance as yf\n",
    "import numpy as np\n",
    "import matplotlib.pyplot as plt\n",
    "import pandas as pd\n",
    "import scipy.stats as si\n",
    "import os"
   ]
  },
  {
   "cell_type": "code",
   "execution_count": 2,
   "metadata": {},
   "outputs": [
    {
     "name": "stdout",
     "output_type": "stream",
     "text": [
      "[*********************100%***********************]  1 of 1 completed\n"
     ]
    }
   ],
   "source": [
    "SP_500 = yf.download(\"^GSPC\", start = \"2019-11-11\", end = \"2020-11-13\")"
   ]
  },
  {
   "cell_type": "code",
   "execution_count": 3,
   "metadata": {},
   "outputs": [
    {
     "data": {
      "text/html": [
       "<div>\n",
       "<style scoped>\n",
       "    .dataframe tbody tr th:only-of-type {\n",
       "        vertical-align: middle;\n",
       "    }\n",
       "\n",
       "    .dataframe tbody tr th {\n",
       "        vertical-align: top;\n",
       "    }\n",
       "\n",
       "    .dataframe thead th {\n",
       "        text-align: right;\n",
       "    }\n",
       "</style>\n",
       "<table border=\"1\" class=\"dataframe\">\n",
       "  <thead>\n",
       "    <tr style=\"text-align: right;\">\n",
       "      <th></th>\n",
       "      <th>Open</th>\n",
       "      <th>High</th>\n",
       "      <th>Low</th>\n",
       "      <th>Close</th>\n",
       "      <th>Adj Close</th>\n",
       "      <th>Volume</th>\n",
       "    </tr>\n",
       "    <tr>\n",
       "      <th>Date</th>\n",
       "      <th></th>\n",
       "      <th></th>\n",
       "      <th></th>\n",
       "      <th></th>\n",
       "      <th></th>\n",
       "      <th></th>\n",
       "    </tr>\n",
       "  </thead>\n",
       "  <tbody>\n",
       "    <tr>\n",
       "      <th>2019-11-11</th>\n",
       "      <td>3080.330078</td>\n",
       "      <td>3088.330078</td>\n",
       "      <td>3075.820068</td>\n",
       "      <td>3087.010010</td>\n",
       "      <td>3087.010010</td>\n",
       "      <td>3035530000</td>\n",
       "    </tr>\n",
       "    <tr>\n",
       "      <th>2019-11-12</th>\n",
       "      <td>3089.280029</td>\n",
       "      <td>3102.610107</td>\n",
       "      <td>3084.729980</td>\n",
       "      <td>3091.840088</td>\n",
       "      <td>3091.840088</td>\n",
       "      <td>3466010000</td>\n",
       "    </tr>\n",
       "    <tr>\n",
       "      <th>2019-11-13</th>\n",
       "      <td>3084.179932</td>\n",
       "      <td>3098.060059</td>\n",
       "      <td>3078.800049</td>\n",
       "      <td>3094.040039</td>\n",
       "      <td>3094.040039</td>\n",
       "      <td>3509280000</td>\n",
       "    </tr>\n",
       "    <tr>\n",
       "      <th>2019-11-14</th>\n",
       "      <td>3090.750000</td>\n",
       "      <td>3098.199951</td>\n",
       "      <td>3083.260010</td>\n",
       "      <td>3096.629883</td>\n",
       "      <td>3096.629883</td>\n",
       "      <td>3276070000</td>\n",
       "    </tr>\n",
       "    <tr>\n",
       "      <th>2019-11-15</th>\n",
       "      <td>3107.919922</td>\n",
       "      <td>3120.459961</td>\n",
       "      <td>3104.600098</td>\n",
       "      <td>3120.459961</td>\n",
       "      <td>3120.459961</td>\n",
       "      <td>3335650000</td>\n",
       "    </tr>\n",
       "  </tbody>\n",
       "</table>\n",
       "</div>"
      ],
      "text/plain": [
       "                   Open         High          Low        Close    Adj Close  \\\n",
       "Date                                                                          \n",
       "2019-11-11  3080.330078  3088.330078  3075.820068  3087.010010  3087.010010   \n",
       "2019-11-12  3089.280029  3102.610107  3084.729980  3091.840088  3091.840088   \n",
       "2019-11-13  3084.179932  3098.060059  3078.800049  3094.040039  3094.040039   \n",
       "2019-11-14  3090.750000  3098.199951  3083.260010  3096.629883  3096.629883   \n",
       "2019-11-15  3107.919922  3120.459961  3104.600098  3120.459961  3120.459961   \n",
       "\n",
       "                Volume  \n",
       "Date                    \n",
       "2019-11-11  3035530000  \n",
       "2019-11-12  3466010000  \n",
       "2019-11-13  3509280000  \n",
       "2019-11-14  3276070000  \n",
       "2019-11-15  3335650000  "
      ]
     },
     "execution_count": 3,
     "metadata": {},
     "output_type": "execute_result"
    }
   ],
   "source": [
    "SP_500.head()"
   ]
  },
  {
   "cell_type": "code",
   "execution_count": 4,
   "metadata": {},
   "outputs": [
    {
     "data": {
      "text/html": [
       "<div>\n",
       "<style scoped>\n",
       "    .dataframe tbody tr th:only-of-type {\n",
       "        vertical-align: middle;\n",
       "    }\n",
       "\n",
       "    .dataframe tbody tr th {\n",
       "        vertical-align: top;\n",
       "    }\n",
       "\n",
       "    .dataframe thead th {\n",
       "        text-align: right;\n",
       "    }\n",
       "</style>\n",
       "<table border=\"1\" class=\"dataframe\">\n",
       "  <thead>\n",
       "    <tr style=\"text-align: right;\">\n",
       "      <th></th>\n",
       "      <th>Open</th>\n",
       "      <th>High</th>\n",
       "      <th>Low</th>\n",
       "      <th>Close</th>\n",
       "      <th>Adj Close</th>\n",
       "      <th>Volume</th>\n",
       "    </tr>\n",
       "    <tr>\n",
       "      <th>Date</th>\n",
       "      <th></th>\n",
       "      <th></th>\n",
       "      <th></th>\n",
       "      <th></th>\n",
       "      <th></th>\n",
       "      <th></th>\n",
       "    </tr>\n",
       "  </thead>\n",
       "  <tbody>\n",
       "    <tr>\n",
       "      <th>2020-11-06</th>\n",
       "      <td>3508.340088</td>\n",
       "      <td>3521.580078</td>\n",
       "      <td>3484.340088</td>\n",
       "      <td>3509.439941</td>\n",
       "      <td>3509.439941</td>\n",
       "      <td>4833950000</td>\n",
       "    </tr>\n",
       "    <tr>\n",
       "      <th>2020-11-09</th>\n",
       "      <td>3583.040039</td>\n",
       "      <td>3645.989990</td>\n",
       "      <td>3547.479980</td>\n",
       "      <td>3550.500000</td>\n",
       "      <td>3550.500000</td>\n",
       "      <td>8556610000</td>\n",
       "    </tr>\n",
       "    <tr>\n",
       "      <th>2020-11-10</th>\n",
       "      <td>3543.260010</td>\n",
       "      <td>3557.219971</td>\n",
       "      <td>3511.909912</td>\n",
       "      <td>3545.530029</td>\n",
       "      <td>3545.530029</td>\n",
       "      <td>6024230000</td>\n",
       "    </tr>\n",
       "    <tr>\n",
       "      <th>2020-11-11</th>\n",
       "      <td>3563.219971</td>\n",
       "      <td>3581.159912</td>\n",
       "      <td>3557.000000</td>\n",
       "      <td>3572.659912</td>\n",
       "      <td>3572.659912</td>\n",
       "      <td>4609970000</td>\n",
       "    </tr>\n",
       "    <tr>\n",
       "      <th>2020-11-12</th>\n",
       "      <td>3562.669922</td>\n",
       "      <td>3569.020020</td>\n",
       "      <td>3518.580078</td>\n",
       "      <td>3537.010010</td>\n",
       "      <td>3537.010010</td>\n",
       "      <td>4890120000</td>\n",
       "    </tr>\n",
       "  </tbody>\n",
       "</table>\n",
       "</div>"
      ],
      "text/plain": [
       "                   Open         High          Low        Close    Adj Close  \\\n",
       "Date                                                                          \n",
       "2020-11-06  3508.340088  3521.580078  3484.340088  3509.439941  3509.439941   \n",
       "2020-11-09  3583.040039  3645.989990  3547.479980  3550.500000  3550.500000   \n",
       "2020-11-10  3543.260010  3557.219971  3511.909912  3545.530029  3545.530029   \n",
       "2020-11-11  3563.219971  3581.159912  3557.000000  3572.659912  3572.659912   \n",
       "2020-11-12  3562.669922  3569.020020  3518.580078  3537.010010  3537.010010   \n",
       "\n",
       "                Volume  \n",
       "Date                    \n",
       "2020-11-06  4833950000  \n",
       "2020-11-09  8556610000  \n",
       "2020-11-10  6024230000  \n",
       "2020-11-11  4609970000  \n",
       "2020-11-12  4890120000  "
      ]
     },
     "execution_count": 4,
     "metadata": {},
     "output_type": "execute_result"
    }
   ],
   "source": [
    "SP_500.tail()"
   ]
  },
  {
   "cell_type": "code",
   "execution_count": 5,
   "metadata": {},
   "outputs": [
    {
     "name": "stdout",
     "output_type": "stream",
     "text": [
      "Spot price is 3537.010009765625\n"
     ]
    }
   ],
   "source": [
    "SPOT = SP_500['Adj Close'][-1]\n",
    "print(\"Spot price is\", SPOT)"
   ]
  },
  {
   "cell_type": "code",
   "execution_count": 6,
   "metadata": {},
   "outputs": [
    {
     "data": {
      "text/plain": [
       "Date\n",
       "2019-11-11         NaN\n",
       "2019-11-12    0.001563\n",
       "2019-11-13    0.000711\n",
       "2019-11-14    0.000837\n",
       "2019-11-15    0.007666\n",
       "Name: Adj Close, dtype: float64"
      ]
     },
     "execution_count": 6,
     "metadata": {},
     "output_type": "execute_result"
    }
   ],
   "source": [
    "# Calibrate the annualised volatility of the Index. Compare it with the VIX data.\n",
    "\n",
    "log_return = np.log(SP_500['Adj Close'] / SP_500['Adj Close'].shift(1)) # alternative to using pandas\n",
    "log_return[:5]"
   ]
  },
  {
   "cell_type": "code",
   "execution_count": 7,
   "metadata": {},
   "outputs": [
    {
     "name": "stdout",
     "output_type": "stream",
     "text": [
      "The annualized volatility is 34.49854894209453 %\n"
     ]
    }
   ],
   "source": [
    "sigma = np.sqrt(252) * log_return.std()\n",
    "print(\"The annualized volatility is\", (sigma*100), \"%\")"
   ]
  },
  {
   "cell_type": "code",
   "execution_count": 8,
   "metadata": {},
   "outputs": [
    {
     "name": "stdout",
     "output_type": "stream",
     "text": [
      "[*********************100%***********************]  1 of 1 completed\n"
     ]
    }
   ],
   "source": [
    "VIX = yf.download(\"^VIX\", start = \"2019-11-11\", end = \"2020-11-13\")"
   ]
  },
  {
   "cell_type": "code",
   "execution_count": 9,
   "metadata": {},
   "outputs": [
    {
     "data": {
      "text/html": [
       "<div>\n",
       "<style scoped>\n",
       "    .dataframe tbody tr th:only-of-type {\n",
       "        vertical-align: middle;\n",
       "    }\n",
       "\n",
       "    .dataframe tbody tr th {\n",
       "        vertical-align: top;\n",
       "    }\n",
       "\n",
       "    .dataframe thead th {\n",
       "        text-align: right;\n",
       "    }\n",
       "</style>\n",
       "<table border=\"1\" class=\"dataframe\">\n",
       "  <thead>\n",
       "    <tr style=\"text-align: right;\">\n",
       "      <th></th>\n",
       "      <th>Open</th>\n",
       "      <th>High</th>\n",
       "      <th>Low</th>\n",
       "      <th>Close</th>\n",
       "      <th>Adj Close</th>\n",
       "      <th>Volume</th>\n",
       "    </tr>\n",
       "    <tr>\n",
       "      <th>Date</th>\n",
       "      <th></th>\n",
       "      <th></th>\n",
       "      <th></th>\n",
       "      <th></th>\n",
       "      <th></th>\n",
       "      <th></th>\n",
       "    </tr>\n",
       "  </thead>\n",
       "  <tbody>\n",
       "    <tr>\n",
       "      <th>2019-11-11</th>\n",
       "      <td>13.15</td>\n",
       "      <td>13.49</td>\n",
       "      <td>12.66</td>\n",
       "      <td>12.69</td>\n",
       "      <td>12.69</td>\n",
       "      <td>0</td>\n",
       "    </tr>\n",
       "    <tr>\n",
       "      <th>2019-11-12</th>\n",
       "      <td>12.64</td>\n",
       "      <td>13.10</td>\n",
       "      <td>12.36</td>\n",
       "      <td>12.68</td>\n",
       "      <td>12.68</td>\n",
       "      <td>0</td>\n",
       "    </tr>\n",
       "    <tr>\n",
       "      <th>2019-11-13</th>\n",
       "      <td>12.91</td>\n",
       "      <td>13.90</td>\n",
       "      <td>12.88</td>\n",
       "      <td>13.00</td>\n",
       "      <td>13.00</td>\n",
       "      <td>0</td>\n",
       "    </tr>\n",
       "    <tr>\n",
       "      <th>2019-11-14</th>\n",
       "      <td>13.16</td>\n",
       "      <td>13.81</td>\n",
       "      <td>12.93</td>\n",
       "      <td>13.05</td>\n",
       "      <td>13.05</td>\n",
       "      <td>0</td>\n",
       "    </tr>\n",
       "    <tr>\n",
       "      <th>2019-11-15</th>\n",
       "      <td>12.95</td>\n",
       "      <td>12.97</td>\n",
       "      <td>11.92</td>\n",
       "      <td>12.05</td>\n",
       "      <td>12.05</td>\n",
       "      <td>0</td>\n",
       "    </tr>\n",
       "  </tbody>\n",
       "</table>\n",
       "</div>"
      ],
      "text/plain": [
       "             Open   High    Low  Close  Adj Close  Volume\n",
       "Date                                                     \n",
       "2019-11-11  13.15  13.49  12.66  12.69      12.69       0\n",
       "2019-11-12  12.64  13.10  12.36  12.68      12.68       0\n",
       "2019-11-13  12.91  13.90  12.88  13.00      13.00       0\n",
       "2019-11-14  13.16  13.81  12.93  13.05      13.05       0\n",
       "2019-11-15  12.95  12.97  11.92  12.05      12.05       0"
      ]
     },
     "execution_count": 9,
     "metadata": {},
     "output_type": "execute_result"
    }
   ],
   "source": [
    "VIX.head()"
   ]
  },
  {
   "cell_type": "code",
   "execution_count": 10,
   "metadata": {},
   "outputs": [
    {
     "name": "stdout",
     "output_type": "stream",
     "text": [
      "The market volatility is 25.350000381469727 %\n"
     ]
    }
   ],
   "source": [
    "VIXvol = VIX['Adj Close'][-1]\n",
    "print('The market volatility is', VIXvol, '%')"
   ]
  },
  {
   "cell_type": "code",
   "execution_count": 31,
   "metadata": {},
   "outputs": [],
   "source": [
    "# Find the call and put option price with Strike at 4000 and Expiry date on 18/12/2020.\n",
    "    \n",
    "def euro_option_bs(S, K, T, r, sigma, payoff):\n",
    "    \n",
    "    d1 = (np.log(S / K) + (r + 0.5 * sigma ** 2) * T) / (sigma * np.sqrt(T))\n",
    "    d2 = (np.log(S / K) + (r - 0.5 * sigma ** 2) * T) / (sigma * np.sqrt(T))\n",
    "    if payoff == \"call\":\n",
    "        option_value = S * si.norm.cdf(d1, 0.0, 1.0) - K * np.exp(-r * T) * si.norm.cdf(d2, 0.0, 1.0)\n",
    "    elif payoff == \"put\":\n",
    "        option_value = - S * si.norm.cdf(-d1, 0.0, 1.0) + K * np.exp(-r * T) * si.norm.cdf(-d2, 0.0, 1.0)\n",
    "    \n",
    "    return option_value"
   ]
  },
  {
   "cell_type": "code",
   "execution_count": 32,
   "metadata": {},
   "outputs": [
    {
     "name": "stdout",
     "output_type": "stream",
     "text": [
      "31.582860190560154\n"
     ]
    }
   ],
   "source": [
    "SP_500_call = euro_option_bs(3537, 4000, 5/52, 0.162, 0.34, \"call\")\n",
    "print(SP_500_call)"
   ]
  },
  {
   "cell_type": "code",
   "execution_count": 33,
   "metadata": {},
   "outputs": [
    {
     "name": "stdout",
     "output_type": "stream",
     "text": [
      "432.7579390012638\n"
     ]
    }
   ],
   "source": [
    "SP_500_put = euro_option_bs(3537, 4000, 5/52, 0.162, 0.34, \"put\")\n",
    "print(SP_500_put)"
   ]
  },
  {
   "cell_type": "code",
   "execution_count": 34,
   "metadata": {},
   "outputs": [
    {
     "name": "stdout",
     "output_type": "stream",
     "text": [
      "585.8639288715133\n"
     ]
    }
   ],
   "source": [
    "# Find the call and put option price with Strike at 4000 and Expiry date on 17/12/2021. Compare the value with the market price.\n",
    "# ttm is 1 year and 5 weeks \n",
    "\n",
    "SP_500_call = euro_option_bs(3537, 4000, 1.096, 0.162, 0.34, \"call\")\n",
    "print(SP_500_call)"
   ]
  },
  {
   "cell_type": "code",
   "execution_count": 35,
   "metadata": {},
   "outputs": [
    {
     "name": "stdout",
     "output_type": "stream",
     "text": [
      "398.13375965503724\n"
     ]
    }
   ],
   "source": [
    "SP_500_put = euro_option_bs(3537, 4000, 1.096, 0.162, 0.34, \"put\")\n",
    "print(SP_500_put)"
   ]
  },
  {
   "cell_type": "code",
   "execution_count": 36,
   "metadata": {},
   "outputs": [
    {
     "name": "stdout",
     "output_type": "stream",
     "text": [
      "Market call price is 206.8\n"
     ]
    }
   ],
   "source": [
    "SP_500 = yf.Ticker(\"^GSPC\")\n",
    "options = SP_500.option_chain(\"2021-12-17\")\n",
    "market_call_price = options.calls.lastPrice[options.calls.strike == 4000]\n",
    "print(\"Market call price is\", float(market_call_price.values))"
   ]
  },
  {
   "cell_type": "code",
   "execution_count": 37,
   "metadata": {},
   "outputs": [
    {
     "name": "stdout",
     "output_type": "stream",
     "text": [
      "Market put price is 318.61\n"
     ]
    }
   ],
   "source": [
    "market_put_price = options.puts.lastPrice[options.puts.strike == 4000]\n",
    "print(\"Market put price is\", float(market_put_price.values))"
   ]
  },
  {
   "cell_type": "code",
   "execution_count": 38,
   "metadata": {},
   "outputs": [
    {
     "name": "stdout",
     "output_type": "stream",
     "text": [
      "460.0583400712351\n"
     ]
    }
   ],
   "source": [
    "# If we use the VIX as volatility, what is the results for Q3 and Q4? Which one is closer to the market price?\n",
    "\n",
    "call_VIX = euro_option_bs(3537, 4000, 1.096, 0.162, 0.25, \"call\")\n",
    "print(call_VIX)"
   ]
  },
  {
   "cell_type": "code",
   "execution_count": 39,
   "metadata": {},
   "outputs": [
    {
     "name": "stdout",
     "output_type": "stream",
     "text": [
      "272.3281708547586\n"
     ]
    }
   ],
   "source": [
    "put_VIX = euro_option_bs(3537, 4000, 1.096, 0.162, 0.25, \"put\")\n",
    "print(put_VIX)"
   ]
  },
  {
   "cell_type": "code",
   "execution_count": null,
   "metadata": {},
   "outputs": [],
   "source": [
    "# dates requested are year old so prices will differ now; consider using more recent data"
   ]
  },
  {
   "cell_type": "code",
   "execution_count": 40,
   "metadata": {},
   "outputs": [],
   "source": [
    "# Set the Strike from $3000 to 4000 (every $100), and Time is one week, two weeks, one month, two months, one quarter, half year and one year. Set volatility equals to the VIX value. Plot the call price 3D surface.\n",
    "\n",
    "K = np.linspace(3000,4000,11)\n",
    "T = [1/52, 2/52, 1/12, 2/12, 1/4, 1/2, 1]"
   ]
  },
  {
   "cell_type": "code",
   "execution_count": 42,
   "metadata": {},
   "outputs": [],
   "source": [
    "call_price = np.zeros((len(T),len(K)))\n",
    "for i in range(len(T)):\n",
    "    for j in range(len(K)):\n",
    "        call_price[i,j] = euro_option_bs(3537, K[j], T[i], 0.162, 0.25, \"call\")"
   ]
  },
  {
   "cell_type": "code",
   "execution_count": 43,
   "metadata": {},
   "outputs": [],
   "source": [
    "Strike, TTM = np.meshgrid(K, T)"
   ]
  },
  {
   "cell_type": "code",
   "execution_count": 46,
   "metadata": {},
   "outputs": [
    {
     "data": {
      "image/png": "[encoded data removed]",
      "text/plain": [
       "<Figure size 720x432 with 2 Axes>"
      ]
     },
     "metadata": {
      "needs_background": "light"
     },
     "output_type": "display_data"
    }
   ],
   "source": [
    "from mpl_toolkits.mplot3d import Axes3D\n",
    "fig = plt.figure(figsize= (10, 6))\n",
    "ax = fig.gca(projection='3d')\n",
    "surf = ax.plot_surface(Strike, TTM, call_price, rstride=2, cstride=2, cmap=plt.cm.coolwarm, linewidth=0.5, antialiased=True)\n",
    "ax.set_xlabel('Strike')\n",
    "ax.set_ylabel('Time-to-Maturity')\n",
    "ax.set_zlabel('Call Price')\n",
    "fig.colorbar(surf, shrink=0.5, aspect=5);"
   ]
  },
  {
   "cell_type": "code",
   "execution_count": null,
   "metadata": {},
   "outputs": [],
   "source": []
  }
 ],
 "metadata": {
  "kernelspec": {
   "display_name": "Python 3",
   "language": "python",
   "name": "python3"
  },
  "language_info": {
   "codemirror_mode": {
    "name": "ipython",
    "version": 3
   },
   "file_extension": ".py",
   "mimetype": "text/x-python",
   "name": "python",
   "nbconvert_exporter": "python",
   "pygments_lexer": "ipython3",
   "version": "3.8.5"
  }
 },
 "nbformat": 4,
 "nbformat_minor": 4
}
